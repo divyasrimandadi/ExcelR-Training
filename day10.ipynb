{
  "nbformat": 4,
  "nbformat_minor": 0,
  "metadata": {
    "colab": {
      "provenance": [],
      "authorship_tag": "ABX9TyM72VwC0GkOQZ5Mp97AwJ5H",
      "include_colab_link": true
    },
    "kernelspec": {
      "name": "python3",
      "display_name": "Python 3"
    },
    "language_info": {
      "name": "python"
    }
  },
  "cells": [
    {
      "cell_type": "markdown",
      "metadata": {
        "id": "view-in-github",
        "colab_type": "text"
      },
      "source": [
        "<a href=\"https://colab.research.google.com/github/divyasrimandadi/ExcelR-Training/blob/main/day10.ipynb\" target=\"_parent\"><img src=\"https://colab.research.google.com/assets/colab-badge.svg\" alt=\"Open In Colab\"/></a>"
      ]
    },
    {
      "cell_type": "code",
      "execution_count": 1,
      "metadata": {
        "id": "1lXm8ElXGVbl"
      },
      "outputs": [],
      "source": [
        "#Write a Python function using regular expressions to extract all email addresses from a given string. Test it with the input: 'Contact us at support@example.com and sales@example.org.'\n"
      ]
    },
    {
      "cell_type": "code",
      "source": [
        "import re\n",
        "def extract_emails(text):\n",
        "  email_pattern = r'[\\w\\.-]+@[\\w\\.-]+\\.\\w+'\n",
        "  emails = re.findall(email_pattern, text)\n",
        "  return emails\n",
        "input_string = 'Contact us at support@example.com and sales@example.org.'\n",
        "extracted_emails = extract_emails(input_string)\n",
        "print(extracted_emails)"
      ],
      "metadata": {
        "colab": {
          "base_uri": "https://localhost:8080/"
        },
        "id": "Cl-QM8J4R_gI",
        "outputId": "50742d9b-d7e6-4597-89af-14316216b5a6"
      },
      "execution_count": 4,
      "outputs": [
        {
          "output_type": "stream",
          "name": "stdout",
          "text": [
            "['support@example.com', 'sales@example.org']\n"
          ]
        }
      ]
    }
  ]
}