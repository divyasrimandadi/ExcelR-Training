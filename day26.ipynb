{
  "nbformat": 4,
  "nbformat_minor": 0,
  "metadata": {
    "colab": {
      "provenance": [],
      "gpuType": "T4",
      "authorship_tag": "ABX9TyNVtAjQ9q0ZIqxm59Hvkm96",
      "include_colab_link": true
    },
    "kernelspec": {
      "name": "python3",
      "display_name": "Python 3"
    },
    "language_info": {
      "name": "python"
    },
    "accelerator": "GPU"
  },
  "cells": [
    {
      "cell_type": "markdown",
      "metadata": {
        "id": "view-in-github",
        "colab_type": "text"
      },
      "source": [
        "<a href=\"https://colab.research.google.com/github/divyasrimandadi/ExcelR-Training/blob/main/day26.ipynb\" target=\"_parent\"><img src=\"https://colab.research.google.com/assets/colab-badge.svg\" alt=\"Open In Colab\"/></a>"
      ]
    },
    {
      "cell_type": "code",
      "execution_count": 1,
      "metadata": {
        "id": "nTmC22wZRYOM"
      },
      "outputs": [],
      "source": [
        "#Write a Python program to calculate the cosine similarity between two strings using the Scikit-learn library. You can use the 'TfidfVectorizer' class to transform the text into vectors.\n"
      ]
    },
    {
      "cell_type": "code",
      "source": [
        "from sklearn.feature_extraction.text import TfidfVectorizer\n",
        "from sklearn.metrics.pairwise import cosine_similarity\n",
        "def calculate_cosine_similarity(string1, string2):\n",
        "    \"\"\"Calculates the cosine similarity between two strings.\n",
        "\n",
        "    Args:\n",
        "        string1: The first string.\n",
        "        string2: The second string.\n",
        "\n",
        "    Returns:\n",
        "        The cosine similarity between the two strings.\n",
        "    \"\"\"\n",
        "    vectorizer = TfidfVectorizer()\n",
        "    tfidf_matrix = vectorizer.fit_transform([string1, string2])\n",
        "    similarity = cosine_similarity(tfidf_matrix[0], tfidf_matrix[1])\n",
        "    return similarity[0][0]\n",
        "string1 = \"This is Natural Language Processing.\"\n",
        "string2 = \"This is Machine Learning.\"\n",
        "similarity = calculate_cosine_similarity(string1, string2)\n",
        "print(f\"The cosine similarity between the two strings is: {similarity}\")"
      ],
      "metadata": {
        "colab": {
          "base_uri": "https://localhost:8080/"
        },
        "id": "JW9qy2QVRhqh",
        "outputId": "40da7b5a-5aca-4de5-c551-ab61c6664bf5"
      },
      "execution_count": 3,
      "outputs": [
        {
          "output_type": "stream",
          "name": "stdout",
          "text": [
            "The cosine similarity between the two strings is: 0.2912194185636897\n"
          ]
        }
      ]
    }
  ]
}