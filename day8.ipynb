{
  "nbformat": 4,
  "nbformat_minor": 0,
  "metadata": {
    "colab": {
      "provenance": [],
      "gpuType": "T4",
      "authorship_tag": "ABX9TyMTWs7+uzSc98izl1rXy1Dx",
      "include_colab_link": true
    },
    "kernelspec": {
      "name": "python3",
      "display_name": "Python 3"
    },
    "language_info": {
      "name": "python"
    },
    "accelerator": "GPU"
  },
  "cells": [
    {
      "cell_type": "markdown",
      "metadata": {
        "id": "view-in-github",
        "colab_type": "text"
      },
      "source": [
        "<a href=\"https://colab.research.google.com/github/divyasrimandadi/ExcelR-Training/blob/main/day8.ipynb\" target=\"_parent\"><img src=\"https://colab.research.google.com/assets/colab-badge.svg\" alt=\"Open In Colab\"/></a>"
      ]
    },
    {
      "cell_type": "code",
      "execution_count": 2,
      "metadata": {
        "colab": {
          "base_uri": "https://localhost:8080/"
        },
        "id": "JKCL4CSJ-OJl",
        "outputId": "b06e676a-89f2-461c-c7e9-bda671330a5b"
      },
      "outputs": [
        {
          "output_type": "stream",
          "name": "stderr",
          "text": [
            "[nltk_data] Downloading package punkt to /root/nltk_data...\n",
            "[nltk_data]   Unzipping tokenizers/punkt.zip.\n",
            "[nltk_data] Downloading package punkt_tab to /root/nltk_data...\n",
            "[nltk_data]   Unzipping tokenizers/punkt_tab.zip.\n"
          ]
        }
      ],
      "source": [
        "#Tokenizes a sample paragraph into words and sentences.\n",
        "import nltk\n",
        "nltk.download('punkt')\n",
        "nltk.download('punkt_tab')\n",
        "from nltk.tokenize import word_tokenize,sent_tokenize\n",
        "para=\"Machine learning is revolutionizing industries by enabling computers to learn from data without explicit programming. Algorithms like linear regression and decision trees are used to build models that can predict outcomes based on patterns in the data. These models are trained on large datasets and evaluated for accuracy before deployment. Machine learning is applied in various fields, including healthcare, finance, and marketing, to automate tasks, personalize experiences, and gain insights from complex data.\"\n"
      ]
    },
    {
      "cell_type": "code",
      "source": [
        "sentence=sent_tokenize(para)\n",
        "sentence"
      ],
      "metadata": {
        "colab": {
          "base_uri": "https://localhost:8080/"
        },
        "id": "YxwMlLgr_Gux",
        "outputId": "8e2a86c1-6536-488b-e0c2-938ef0fd6230"
      },
      "execution_count": 4,
      "outputs": [
        {
          "output_type": "execute_result",
          "data": {
            "text/plain": [
              "['Machine learning is revolutionizing industries by enabling computers to learn from data without explicit programming.',\n",
              " 'Algorithms like linear regression and decision trees are used to build models that can predict outcomes based on patterns in the data.',\n",
              " 'These models are trained on large datasets and evaluated for accuracy before deployment.',\n",
              " 'Machine learning is applied in various fields, including healthcare, finance, and marketing, to automate tasks, personalize experiences, and gain insights from complex data.']"
            ]
          },
          "metadata": {},
          "execution_count": 4
        }
      ]
    },
    {
      "cell_type": "code",
      "source": [
        "words=word_tokenize(para)\n",
        "words"
      ],
      "metadata": {
        "colab": {
          "base_uri": "https://localhost:8080/"
        },
        "id": "ngQfsXw2_Wbt",
        "outputId": "d7a1f89d-80bd-4283-ecad-6c400a4aa731"
      },
      "execution_count": 5,
      "outputs": [
        {
          "output_type": "execute_result",
          "data": {
            "text/plain": [
              "['Machine',\n",
              " 'learning',\n",
              " 'is',\n",
              " 'revolutionizing',\n",
              " 'industries',\n",
              " 'by',\n",
              " 'enabling',\n",
              " 'computers',\n",
              " 'to',\n",
              " 'learn',\n",
              " 'from',\n",
              " 'data',\n",
              " 'without',\n",
              " 'explicit',\n",
              " 'programming',\n",
              " '.',\n",
              " 'Algorithms',\n",
              " 'like',\n",
              " 'linear',\n",
              " 'regression',\n",
              " 'and',\n",
              " 'decision',\n",
              " 'trees',\n",
              " 'are',\n",
              " 'used',\n",
              " 'to',\n",
              " 'build',\n",
              " 'models',\n",
              " 'that',\n",
              " 'can',\n",
              " 'predict',\n",
              " 'outcomes',\n",
              " 'based',\n",
              " 'on',\n",
              " 'patterns',\n",
              " 'in',\n",
              " 'the',\n",
              " 'data',\n",
              " '.',\n",
              " 'These',\n",
              " 'models',\n",
              " 'are',\n",
              " 'trained',\n",
              " 'on',\n",
              " 'large',\n",
              " 'datasets',\n",
              " 'and',\n",
              " 'evaluated',\n",
              " 'for',\n",
              " 'accuracy',\n",
              " 'before',\n",
              " 'deployment',\n",
              " '.',\n",
              " 'Machine',\n",
              " 'learning',\n",
              " 'is',\n",
              " 'applied',\n",
              " 'in',\n",
              " 'various',\n",
              " 'fields',\n",
              " ',',\n",
              " 'including',\n",
              " 'healthcare',\n",
              " ',',\n",
              " 'finance',\n",
              " ',',\n",
              " 'and',\n",
              " 'marketing',\n",
              " ',',\n",
              " 'to',\n",
              " 'automate',\n",
              " 'tasks',\n",
              " ',',\n",
              " 'personalize',\n",
              " 'experiences',\n",
              " ',',\n",
              " 'and',\n",
              " 'gain',\n",
              " 'insights',\n",
              " 'from',\n",
              " 'complex',\n",
              " 'data',\n",
              " '.']"
            ]
          },
          "metadata": {},
          "execution_count": 5
        }
      ]
    }
  ]
}