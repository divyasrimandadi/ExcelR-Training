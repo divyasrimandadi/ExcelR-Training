{
  "nbformat": 4,
  "nbformat_minor": 0,
  "metadata": {
    "colab": {
      "provenance": [],
      "authorship_tag": "ABX9TyP0sjJXE1dn+h4y6IRn/YxF",
      "include_colab_link": true
    },
    "kernelspec": {
      "name": "python3",
      "display_name": "Python 3"
    },
    "language_info": {
      "name": "python"
    }
  },
  "cells": [
    {
      "cell_type": "markdown",
      "metadata": {
        "id": "view-in-github",
        "colab_type": "text"
      },
      "source": [
        "<a href=\"https://colab.research.google.com/github/divyasrimandadi/ExcelR-Training/blob/main/day3.ipynb\" target=\"_parent\"><img src=\"https://colab.research.google.com/assets/colab-badge.svg\" alt=\"Open In Colab\"/></a>"
      ]
    },
    {
      "cell_type": "code",
      "source": [
        "a=int(input(\"Enter 1st subject marks:\"))\n",
        "b=int(input(\"Enter 2nd subject marks:\"))\n",
        "c=int(input(\"Enter 3rd subject marks:\"))\n",
        "average=((a+b+c)/3)\n",
        "if(average>=90):\n",
        "  print(\"Grade:A\")\n",
        "elif(80<=average<=89):\n",
        "  print(\"Grade:B\")\n",
        "elif(70<=average<=79):\n",
        "  print(\"Grade:C\")\n",
        "else:\n",
        "  print(\"Grade:Fail\")"
      ],
      "metadata": {
        "colab": {
          "base_uri": "https://localhost:8080/"
        },
        "id": "iE89GjQXr6pK",
        "outputId": "d5fef4d1-4e1a-4e27-918b-f61444af2065"
      },
      "execution_count": 3,
      "outputs": [
        {
          "output_type": "stream",
          "name": "stdout",
          "text": [
            "Enter 1st subject marks:90\n",
            "Enter 2nd subject marks:99\n",
            "Enter 3rd subject marks:95\n",
            "Grade:A\n"
          ]
        }
      ]
    }
  ]
}