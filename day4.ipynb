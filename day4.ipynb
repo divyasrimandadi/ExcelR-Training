{
  "nbformat": 4,
  "nbformat_minor": 0,
  "metadata": {
    "colab": {
      "provenance": [],
      "authorship_tag": "ABX9TyO16xudVcLCNzKhPjdDq750",
      "include_colab_link": true
    },
    "kernelspec": {
      "name": "python3",
      "display_name": "Python 3"
    },
    "language_info": {
      "name": "python"
    }
  },
  "cells": [
    {
      "cell_type": "markdown",
      "metadata": {
        "id": "view-in-github",
        "colab_type": "text"
      },
      "source": [
        "<a href=\"https://colab.research.google.com/github/divyasrimandadi/ExcelR-Training/blob/main/day4.ipynb\" target=\"_parent\"><img src=\"https://colab.research.google.com/assets/colab-badge.svg\" alt=\"Open In Colab\"/></a>"
      ]
    },
    {
      "cell_type": "markdown",
      "source": [],
      "metadata": {
        "id": "Gq_p2SOf0WRz"
      }
    },
    {
      "cell_type": "markdown",
      "source": [
        "Write a Python program to calculate the sum of all even numbers between 1 and a given positive integer n\n"
      ],
      "metadata": {
        "id": "vZPJ-OmS0WVK"
      }
    },
    {
      "cell_type": "code",
      "source": [
        "n=int(input(\"enter number:\"))\n",
        "sum=0\n",
        "for i in range(n+1):\n",
        "  if i%2==0:\n",
        "    sum=sum+i\n",
        "print(\"sum :\",sum)\n",
        "\n"
      ],
      "metadata": {
        "colab": {
          "base_uri": "https://localhost:8080/"
        },
        "id": "M3pYaykb0aQM",
        "outputId": "44a39c75-17f2-4965-a666-a37cf4d1d40c"
      },
      "execution_count": 10,
      "outputs": [
        {
          "output_type": "stream",
          "name": "stdout",
          "text": [
            "enter number:10\n",
            "sum : 30\n"
          ]
        }
      ]
    }
  ]
}