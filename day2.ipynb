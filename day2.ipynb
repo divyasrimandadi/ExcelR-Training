{
  "nbformat": 4,
  "nbformat_minor": 0,
  "metadata": {
    "colab": {
      "provenance": [],
      "authorship_tag": "ABX9TyNDj8Hup7jLPiAP+FfnDvyw",
      "include_colab_link": true
    },
    "kernelspec": {
      "name": "python3",
      "display_name": "Python 3"
    },
    "language_info": {
      "name": "python"
    }
  },
  "cells": [
    {
      "cell_type": "markdown",
      "metadata": {
        "id": "view-in-github",
        "colab_type": "text"
      },
      "source": [
        "<a href=\"https://colab.research.google.com/github/divyasrimandadi/ExcelR-Training/blob/main/day2.ipynb\" target=\"_parent\"><img src=\"https://colab.research.google.com/assets/colab-badge.svg\" alt=\"Open In Colab\"/></a>"
      ]
    },
    {
      "cell_type": "code",
      "execution_count": 9,
      "metadata": {
        "colab": {
          "base_uri": "https://localhost:8080/"
        },
        "id": "USmI-hPxn2jw",
        "outputId": "518fbd94-77e0-4d39-f814-231afdc81f02"
      },
      "outputs": [
        {
          "output_type": "stream",
          "name": "stdout",
          "text": [
            "[1, 2, 3, 'hey']\n",
            "hey\n",
            "(4, 5, 7, 'hello')\n",
            "7\n",
            "{'name': 'NLP', 'Duration': '3 months', 'language': 'python'}\n",
            "python\n"
          ]
        }
      ],
      "source": [
        "a=[1,2,3,\"hey\"]\n",
        "b=(4,5,7,\"hello\")\n",
        "c={\"name\":\"NLP\",\"Duration\":\"3 months\",\"language\":\"python\"}\n",
        "print(a)\n",
        "print(a[3])\n",
        "print(b)\n",
        "print(b[2])\n",
        "print(c)\n",
        "print(c[\"language\"])\n"
      ]
    }
  ]
}