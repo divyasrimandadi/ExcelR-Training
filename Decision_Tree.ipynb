{
  "nbformat": 4,
  "nbformat_minor": 0,
  "metadata": {
    "colab": {
      "provenance": [],
      "gpuType": "T4",
      "authorship_tag": "ABX9TyNf2gbGGVgO7l6UlnXHcVBt",
      "include_colab_link": true
    },
    "kernelspec": {
      "name": "python3",
      "display_name": "Python 3"
    },
    "language_info": {
      "name": "python"
    },
    "accelerator": "GPU"
  },
  "cells": [
    {
      "cell_type": "markdown",
      "metadata": {
        "id": "view-in-github",
        "colab_type": "text"
      },
      "source": [
        "<a href=\"https://colab.research.google.com/github/divyasrimandadi/ExcelR-Training/blob/main/Decision_Tree.ipynb\" target=\"_parent\"><img src=\"https://colab.research.google.com/assets/colab-badge.svg\" alt=\"Open In Colab\"/></a>"
      ]
    },
    {
      "cell_type": "code",
      "execution_count": null,
      "metadata": {
        "id": "XcqvUHCdU_LW"
      },
      "outputs": [],
      "source": []
    },
    {
      "cell_type": "markdown",
      "source": [
        "Its used for regression problems\n",
        "--varience reduction =varience_total-[(total number of data points in left hands /total number of data points)+(total data points in right side/total number of datapoints)]\n",
        "--varience-spread of data"
      ],
      "metadata": {
        "id": "YJ62rgQMVMIq"
      }
    },
    {
      "cell_type": "code",
      "source": [
        "import numpy as np\n",
        "x=[1,3,4,5,7]\n",
        "y=[2,1,3,6,7]\n",
        "x_var=np.var(x)\n",
        "y_var=np.var(y)\n",
        "print(y_var)"
      ],
      "metadata": {
        "colab": {
          "base_uri": "https://localhost:8080/"
        },
        "id": "RoC0Fm0jWVEO",
        "outputId": "c6751001-5b5f-4d63-84c4-ecb1fa4a7ac6"
      },
      "execution_count": 7,
      "outputs": [
        {
          "output_type": "stream",
          "name": "stdout",
          "text": [
            "5.36\n"
          ]
        }
      ]
    },
    {
      "cell_type": "code",
      "source": [
        "import numpy as np\n",
        "x = [1, 3, 4, 5, 7]\n",
        "y = [2, 1, 3, 6, 7]\n",
        "x_var = np.var(x)\n",
        "y_var = np.var(y)\n",
        "print(y_var)\n",
        "var1_y = [y_val for x_val, y_val in zip(x, y) if x_val <= 3]\n",
        "variance1 = np.var(var1_y)\n",
        "variance1"
      ],
      "metadata": {
        "colab": {
          "base_uri": "https://localhost:8080/"
        },
        "id": "npf02Cwbb4xj",
        "outputId": "5863c328-5791-4128-a5a2-ad9c9140e71f"
      },
      "execution_count": 33,
      "outputs": [
        {
          "output_type": "stream",
          "name": "stdout",
          "text": [
            "5.36\n"
          ]
        },
        {
          "output_type": "execute_result",
          "data": {
            "text/plain": [
              "0.25"
            ]
          },
          "metadata": {},
          "execution_count": 33
        }
      ]
    },
    {
      "cell_type": "code",
      "source": [
        "var2_y = [y_val for x_val, y_val in zip(x, y) if x_val <= 4]\n",
        "variance2 = np.var(var2_y)\n",
        "variance2"
      ],
      "metadata": {
        "colab": {
          "base_uri": "https://localhost:8080/"
        },
        "id": "YMJPRRhMajQK",
        "outputId": "b117d41b-a931-4c52-fabf-071da7af97b6"
      },
      "execution_count": 34,
      "outputs": [
        {
          "output_type": "execute_result",
          "data": {
            "text/plain": [
              "0.6666666666666666"
            ]
          },
          "metadata": {},
          "execution_count": 34
        }
      ]
    }
  ]
}