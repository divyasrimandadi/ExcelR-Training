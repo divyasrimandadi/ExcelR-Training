{
  "nbformat": 4,
  "nbformat_minor": 0,
  "metadata": {
    "colab": {
      "provenance": [],
      "gpuType": "T4",
      "authorship_tag": "ABX9TyN9xVCd9xwGQL6HEicTjxFT",
      "include_colab_link": true
    },
    "kernelspec": {
      "name": "python3",
      "display_name": "Python 3"
    },
    "language_info": {
      "name": "python"
    },
    "accelerator": "GPU"
  },
  "cells": [
    {
      "cell_type": "markdown",
      "metadata": {
        "id": "view-in-github",
        "colab_type": "text"
      },
      "source": [
        "<a href=\"https://colab.research.google.com/github/divyasrimandadi/ExcelR-Training/blob/main/day13.ipynb\" target=\"_parent\"><img src=\"https://colab.research.google.com/assets/colab-badge.svg\" alt=\"Open In Colab\"/></a>"
      ]
    },
    {
      "cell_type": "code",
      "execution_count": 3,
      "metadata": {
        "id": "8vM5GtvsV8im"
      },
      "outputs": [],
      "source": [
        "#Write a Python script to perform part-of-speech tagging on the sentence: 'NLP is amazing and fun to learn.' using SpaCy.\n"
      ]
    },
    {
      "cell_type": "code",
      "source": [
        "import spacy\n",
        "# Loading spaCy English language model\n",
        "nlp = spacy.load(\"en_core_web_sm\")\n",
        "# Defining  sentence\n",
        "sentence = \"NLP is amazing and fun to learn.\"\n",
        "# Processing the sentence with spaCy\n",
        "txt = nlp(sentence)\n",
        "# Print the POS tags for each token\n",
        "for token in txt:\n",
        "    print(token.text, token.pos_)"
      ],
      "metadata": {
        "colab": {
          "base_uri": "https://localhost:8080/"
        },
        "id": "vMDkwQtbZlwu",
        "outputId": "4a6ed8c7-ea67-4bd3-b46b-6e9dd3e77e73"
      },
      "execution_count": 2,
      "outputs": [
        {
          "output_type": "stream",
          "name": "stdout",
          "text": [
            "NLP PROPN\n",
            "is AUX\n",
            "amazing ADJ\n",
            "and CCONJ\n",
            "fun ADJ\n",
            "to PART\n",
            "learn VERB\n",
            ". PUNCT\n"
          ]
        }
      ]
    }
  ]
}