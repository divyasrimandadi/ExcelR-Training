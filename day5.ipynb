{
  "nbformat": 4,
  "nbformat_minor": 0,
  "metadata": {
    "colab": {
      "provenance": [],
      "gpuType": "T4",
      "authorship_tag": "ABX9TyNJg//DdgFNNz3uzE94mjV5",
      "include_colab_link": true
    },
    "kernelspec": {
      "name": "python3",
      "display_name": "Python 3"
    },
    "language_info": {
      "name": "python"
    },
    "accelerator": "GPU"
  },
  "cells": [
    {
      "cell_type": "markdown",
      "metadata": {
        "id": "view-in-github",
        "colab_type": "text"
      },
      "source": [
        "<a href=\"https://colab.research.google.com/github/divyasrimandadi/ExcelR-Training/blob/main/day5.ipynb\" target=\"_parent\"><img src=\"https://colab.research.google.com/assets/colab-badge.svg\" alt=\"Open In Colab\"/></a>"
      ]
    },
    {
      "cell_type": "code",
      "source": [
        "#Write a Python program to calculate the frequency of each word in a given text. Print the words and their corresponding counts.\n",
        "def word_frequency(txt):\n",
        "  words=txt.split()\n",
        "  frequency={}\n",
        "  for word in words:\n",
        "    if word in frequency:\n",
        "      frequency[word]+=1\n",
        "    else:\n",
        "      frequency[word]=1\n",
        "  return frequency\n",
        "txt=\"My name is Divya .Everyone call me by my nick name divi\"\n",
        "print(word_frequency(txt))"
      ],
      "metadata": {
        "colab": {
          "base_uri": "https://localhost:8080/"
        },
        "id": "ifrFYyWNIasd",
        "outputId": "0ecc7fe1-1efa-4b8e-ca93-08abaf99ab42"
      },
      "execution_count": 4,
      "outputs": [
        {
          "output_type": "stream",
          "name": "stdout",
          "text": [
            "{'My': 1, 'name': 2, 'is': 1, 'Divya': 1, '.Even': 1, 'one': 1, 'call': 1, 'me': 1, 'by': 1, 'my': 1, 'nick': 1, 'divi': 1}\n"
          ]
        }
      ]
    }
  ]
}