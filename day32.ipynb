{
  "nbformat": 4,
  "nbformat_minor": 0,
  "metadata": {
    "colab": {
      "provenance": [],
      "authorship_tag": "ABX9TyO7iKSJ29VjNGAmRfMsztqE",
      "include_colab_link": true
    },
    "kernelspec": {
      "name": "python3",
      "display_name": "Python 3"
    },
    "language_info": {
      "name": "python"
    }
  },
  "cells": [
    {
      "cell_type": "markdown",
      "metadata": {
        "id": "view-in-github",
        "colab_type": "text"
      },
      "source": [
        "<a href=\"https://colab.research.google.com/github/divyasrimandadi/ExcelR-Training/blob/main/day32.ipynb\" target=\"_parent\"><img src=\"https://colab.research.google.com/assets/colab-badge.svg\" alt=\"Open In Colab\"/></a>"
      ]
    },
    {
      "cell_type": "code",
      "execution_count": 1,
      "metadata": {
        "id": "TWiHurGZVMMA"
      },
      "outputs": [],
      "source": [
        "#Write a Python program to load a text file, perform tokenization, calculate the term frequency (TF) of each token, and display the top 5 most frequent tokens.\n"
      ]
    },
    {
      "cell_type": "code",
      "source": [
        "import re\n",
        "from collections import Counter\n",
        "def tokenize(text):\n",
        "    text = re.sub(r'[^\\w\\s]', '', text).lower()\n",
        "    tokens = text.split()\n",
        "    return tokens\n",
        "def calculate_tf(tokens):\n",
        "    token_counts = Counter(tokens)\n",
        "    tf = {token: count / len(tokens) for token, count in token_counts.items()}\n",
        "    return tf\n",
        "def display_top_tokens(tf, top_n=5):\n",
        "    sorted_tokens = sorted(tf.items(), key=lambda item: item[1], reverse=True)\n",
        "    print(f\"Top {top_n} most frequent tokens:\")\n",
        "    for token, frequency in sorted_tokens[:top_n]:\n",
        "        print(f\"{token}: {frequency:.4f}\")\n",
        "file_path = \"/content/Natural Language Processing.txt\"\n",
        "with open(file_path, \"r\") as file:\n",
        "    text = file.read()\n",
        "tokens = tokenize(text)\n",
        "tf = calculate_tf(tokens)\n",
        "display_top_tokens(tf)"
      ],
      "metadata": {
        "colab": {
          "base_uri": "https://localhost:8080/"
        },
        "id": "Gm3kuZjNVZp3",
        "outputId": "432ed31e-ca1f-4b6c-a6da-8035be10c290"
      },
      "execution_count": 3,
      "outputs": [
        {
          "output_type": "stream",
          "name": "stdout",
          "text": [
            "Top 5 most frequent tokens:\n",
            "and: 0.1000\n",
            "that: 0.0600\n",
            "language: 0.0400\n",
            "nlp: 0.0400\n",
            "is: 0.0400\n"
          ]
        }
      ]
    }
  ]
}