{
  "nbformat": 4,
  "nbformat_minor": 0,
  "metadata": {
    "colab": {
      "provenance": [],
      "gpuType": "T4",
      "authorship_tag": "ABX9TyPfgWDKUGuL2kKl9RAZPNE7",
      "include_colab_link": true
    },
    "kernelspec": {
      "name": "python3",
      "display_name": "Python 3"
    },
    "language_info": {
      "name": "python"
    },
    "accelerator": "GPU"
  },
  "cells": [
    {
      "cell_type": "markdown",
      "metadata": {
        "id": "view-in-github",
        "colab_type": "text"
      },
      "source": [
        "<a href=\"https://colab.research.google.com/github/divyasrimandadi/ExcelR-Training/blob/main/day30.ipynb\" target=\"_parent\"><img src=\"https://colab.research.google.com/assets/colab-badge.svg\" alt=\"Open In Colab\"/></a>"
      ]
    },
    {
      "cell_type": "code",
      "execution_count": 1,
      "metadata": {
        "id": "e3hBaqqLT3CK"
      },
      "outputs": [],
      "source": [
        "#Write a Python program to perform sentiment analysis on a given text using the TextBlob library. Display whether the sentiment is positive, negative, or neutral.\n"
      ]
    },
    {
      "cell_type": "code",
      "source": [
        "from textblob import TextBlob\n",
        "def analyze_sentiment(text):\n",
        "  \"\"\"Analyzes the sentiment of a given text using TextBlob.\n",
        "  Args:\n",
        "    text: The text to analyze.\n",
        "  Returns:\n",
        "    The sentiment of the text, which can be \"positive\", \"negative\", or \"neutral\".\n",
        "  \"\"\"\n",
        "  analysis = TextBlob(text)\n",
        "  if analysis.sentiment.polarity > 0:\n",
        "    return \"positive\"\n",
        "  elif analysis.sentiment.polarity < 0:\n",
        "    return \"negative\"\n",
        "  else:\n",
        "    return \"neutral\"\n",
        "text = input(\"Enter some text: \")\n",
        "sentiment = analyze_sentiment(text)\n",
        "print(f\"The sentiment of the text is: {sentiment}\")"
      ],
      "metadata": {
        "colab": {
          "base_uri": "https://localhost:8080/"
        },
        "id": "PCgGJYs6UhaW",
        "outputId": "d0e4484b-771c-484a-d6d1-4c8ea9c75ab2"
      },
      "execution_count": 2,
      "outputs": [
        {
          "output_type": "stream",
          "name": "stdout",
          "text": [
            "Enter some text: she is a good performer.\n",
            "The sentiment of the text is: positive\n"
          ]
        }
      ]
    },
    {
      "cell_type": "code",
      "source": [
        "from textblob import TextBlob\n",
        "def analyze_sentiment(text):\n",
        "  \"\"\"Analyzes the sentiment of a given text using TextBlob.\n",
        "  Args:\n",
        "    text: The text to analyze.\n",
        "  Returns:\n",
        "    The sentiment of the text, which can be \"positive\", \"negative\", or \"neutral\".\n",
        "  \"\"\"\n",
        "  analysis = TextBlob(text)\n",
        "  if analysis.sentiment.polarity > 0:\n",
        "    return \"positive\"\n",
        "  elif analysis.sentiment.polarity < 0:\n",
        "    return \"negative\"\n",
        "  else:\n",
        "    return \"neutral\"\n",
        "text = input(\"Enter some text: \")\n",
        "sentiment = analyze_sentiment(text)\n",
        "print(f\"The sentiment of the text is: {sentiment}\")"
      ],
      "metadata": {
        "colab": {
          "base_uri": "https://localhost:8080/"
        },
        "id": "Zkii464mU0w6",
        "outputId": "fec83513-e3de-4db1-90d9-1943bc407afb"
      },
      "execution_count": 3,
      "outputs": [
        {
          "output_type": "stream",
          "name": "stdout",
          "text": [
            "Enter some text: She is getting failed.\n",
            "The sentiment of the text is: negative\n"
          ]
        }
      ]
    }
  ]
}