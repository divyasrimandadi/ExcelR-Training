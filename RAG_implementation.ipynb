{
  "nbformat": 4,
  "nbformat_minor": 0,
  "metadata": {
    "colab": {
      "provenance": [],
      "authorship_tag": "ABX9TyN5tRKUZkXt1BYy2iB8h7aQ",
      "include_colab_link": true
    },
    "kernelspec": {
      "name": "python3",
      "display_name": "Python 3"
    },
    "language_info": {
      "name": "python"
    }
  },
  "cells": [
    {
      "cell_type": "markdown",
      "metadata": {
        "id": "view-in-github",
        "colab_type": "text"
      },
      "source": [
        "<a href=\"https://colab.research.google.com/github/divyasrimandadi/ExcelR-Training/blob/main/RAG_implementation.ipynb\" target=\"_parent\"><img src=\"https://colab.research.google.com/assets/colab-badge.svg\" alt=\"Open In Colab\"/></a>"
      ]
    },
    {
      "cell_type": "markdown",
      "source": [
        "RAG stands for Retrieval-Augmented Generation"
      ],
      "metadata": {
        "id": "kgaJ3-AaPj46"
      }
    },
    {
      "cell_type": "code",
      "execution_count": 2,
      "metadata": {
        "colab": {
          "base_uri": "https://localhost:8080/"
        },
        "id": "ug9G0teFMIz7",
        "outputId": "0accd389-133a-4bd8-e6c6-50f07f5e468a"
      },
      "outputs": [
        {
          "output_type": "stream",
          "name": "stdout",
          "text": [
            "Requirement already satisfied: transformers in /usr/local/lib/python3.11/dist-packages (4.48.3)\n",
            "Requirement already satisfied: filelock in /usr/local/lib/python3.11/dist-packages (from transformers) (3.17.0)\n",
            "Requirement already satisfied: huggingface-hub<1.0,>=0.24.0 in /usr/local/lib/python3.11/dist-packages (from transformers) (0.28.1)\n",
            "Requirement already satisfied: numpy>=1.17 in /usr/local/lib/python3.11/dist-packages (from transformers) (1.26.4)\n",
            "Requirement already satisfied: packaging>=20.0 in /usr/local/lib/python3.11/dist-packages (from transformers) (24.2)\n",
            "Requirement already satisfied: pyyaml>=5.1 in /usr/local/lib/python3.11/dist-packages (from transformers) (6.0.2)\n",
            "Requirement already satisfied: regex!=2019.12.17 in /usr/local/lib/python3.11/dist-packages (from transformers) (2024.11.6)\n",
            "Requirement already satisfied: requests in /usr/local/lib/python3.11/dist-packages (from transformers) (2.32.3)\n",
            "Requirement already satisfied: tokenizers<0.22,>=0.21 in /usr/local/lib/python3.11/dist-packages (from transformers) (0.21.0)\n",
            "Requirement already satisfied: safetensors>=0.4.1 in /usr/local/lib/python3.11/dist-packages (from transformers) (0.5.3)\n",
            "Requirement already satisfied: tqdm>=4.27 in /usr/local/lib/python3.11/dist-packages (from transformers) (4.67.1)\n",
            "Requirement already satisfied: fsspec>=2023.5.0 in /usr/local/lib/python3.11/dist-packages (from huggingface-hub<1.0,>=0.24.0->transformers) (2024.10.0)\n",
            "Requirement already satisfied: typing-extensions>=3.7.4.3 in /usr/local/lib/python3.11/dist-packages (from huggingface-hub<1.0,>=0.24.0->transformers) (4.12.2)\n",
            "Requirement already satisfied: charset-normalizer<4,>=2 in /usr/local/lib/python3.11/dist-packages (from requests->transformers) (3.4.1)\n",
            "Requirement already satisfied: idna<4,>=2.5 in /usr/local/lib/python3.11/dist-packages (from requests->transformers) (3.10)\n",
            "Requirement already satisfied: urllib3<3,>=1.21.1 in /usr/local/lib/python3.11/dist-packages (from requests->transformers) (2.3.0)\n",
            "Requirement already satisfied: certifi>=2017.4.17 in /usr/local/lib/python3.11/dist-packages (from requests->transformers) (2025.1.31)\n"
          ]
        }
      ],
      "source": [
        "!pip install transformers"
      ]
    },
    {
      "cell_type": "code",
      "source": [
        "from transformers import pipeline\n",
        "from sklearn.feature_extraction.text import TfidfVectorizer\n",
        "from sklearn.metrics.pairwise import cosine_similarity\n",
        "import numpy as np\n",
        "dataset = [\n",
        "\"To Kill a Mockingbird is a novel by Harper Lee, published in 1960, that explores issues of racial injustice and childhood innocence.\",\n",
        "\"The Lord of the Rings is a high fantasy novel by J.R.R. Tolkien, published in three volumes between 1954 and 1955, that follows the quest of a hobbit to destroy the One Ring.\",\n",
        "\"Pride and Prejudice is a romantic novel by Jane Austen, published in 1813, that explores the complexities of relationships and societal expectations in 19th-century England.\",\n",
        "\"The Hunger Games is a dystopian novel by Suzanne Collins, published in 2008, that explores the dangers of totalitarianism and the effects of trauma on individuals.\",\n",
        "\"1984 is a dystopian novel by George Orwell, published in 1949, that depicts a totalitarian future society where independent thought is discouraged and citizens are constantly surveilled.\",\n",
        "]\n",
        "#initialize TF-IDF vectorizer\n",
        "vectorizer=TfidfVectorizer()\n",
        "tfidf_matrix=vectorizer.fit_transform(dataset)\n",
        "query=\"Artificial Intelligence\"\n",
        "tfidf_vectors=tfidf_matrix.toarray()\n",
        "\n",
        "#load pre-trained question answering model from Hugging Face\n",
        "qa_pipeline=pipeline(\"question-answering\",model=\"distilbert-base-cased-distilled-squad\")\n",
        "def retrive_and_answer(query,top_k=1):\n",
        "  #converting query to tfidf vector\n",
        "  query_vec=vectorizer.transform([query]).toarray()\n",
        "  #computing cosine similarity btw query vector and all doc vectors\n",
        "  similarities=cosine_similarity(query_vec,tfidf_vectors)\n",
        "  print(similarities)\n",
        "  #getting index of most similar passage\n",
        "  most_similar_indices=np.argsort(similarities[0])[::-1][:top_k]\n",
        "  print(most_similar_indices)\n",
        "  #retriving most similar passages\n",
        "  similar_passages=[dataset[i] for i in most_similar_indices]\n",
        "  print(similar_passages)\n",
        "  #combine passages to form context\n",
        "  context=\" \".join(similar_passages)\n",
        "  #answer the question using qa model\n",
        "  result=qa_pipeline(question=query,context=context)\n",
        "  return result[\"answer\"]\n",
        "query=\"what does Kill a Mockingbird says\"\n",
        "answer=retrive_and_answer(query)\n",
        "print(answer)"
      ],
      "metadata": {
        "colab": {
          "base_uri": "https://localhost:8080/"
        },
        "id": "5LHqNKiKMlvv",
        "outputId": "93de53a7-30c4-45a5-dd73-720950e83b19"
      },
      "execution_count": 4,
      "outputs": [
        {
          "output_type": "stream",
          "name": "stderr",
          "text": [
            "Device set to use cpu\n"
          ]
        },
        {
          "output_type": "stream",
          "name": "stdout",
          "text": [
            "[[0.3921383 0.        0.        0.        0.       ]]\n",
            "[0]\n",
            "['To Kill a Mockingbird is a novel by Harper Lee, published in 1960, that explores issues of racial injustice and childhood innocence.']\n",
            "explores issues of racial injustice and childhood innocence\n"
          ]
        }
      ]
    }
  ]
}